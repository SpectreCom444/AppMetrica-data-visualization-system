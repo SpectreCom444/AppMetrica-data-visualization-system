{
 "cells": [
  {
   "cell_type": "code",
   "execution_count": 3,
   "id": "241260df",
   "metadata": {},
   "outputs": [],
   "source": [
    "import matplotlib.pyplot as plt\n",
    "import numpy as np"
   ]
  },
  {
   "cell_type": "code",
   "execution_count": 94,
   "id": "4e5664bc",
   "metadata": {},
   "outputs": [],
   "source": [
    "class Event:\n",
    "    def __init__(self, field_names, values):\n",
    "        if len(field_names) != len(values):\n",
    "            raise ValueError(f\"The data is corrupted!\\n\"\n",
    "                             f\"The number of field names does not match the number of values.\\n\"\n",
    "                             f\"{len(field_names)}/{len(values)}\\n\"\n",
    "                             f\"{field_names}/{values}\")\n",
    "            \n",
    "        for key, value in zip(field_names, values):\n",
    "            setattr(self, key, value)\n",
    "    def get_value(self, key):\n",
    "        return getattr(self,key)"
   ]
  },
  {
   "cell_type": "code",
   "execution_count": 81,
   "id": "e59311e5",
   "metadata": {},
   "outputs": [],
   "source": [
    "class user:\n",
    "    def __init__(self):\n",
    "        pass"
   ]
  },
  {
   "cell_type": "code",
   "execution_count": 82,
   "id": "ef0bac85",
   "metadata": {},
   "outputs": [],
   "source": [
    "def load_text_file(file_path):\n",
    "    with open(file_path, 'r') as file:\n",
    "        lines = file.readlines()\n",
    "    return lines"
   ]
  },
  {
   "cell_type": "code",
   "execution_count": 83,
   "id": "d91e2d30",
   "metadata": {},
   "outputs": [],
   "source": [
    "def separate_the_names(text_array):\n",
    "    if text_array:\n",
    "        name = text_array.pop(0).split(\",\") \n",
    "        return [n.strip() for n in name]\n",
    "    else:\n",
    "        return []  \n",
    "\n",
    "def load_text_file(file_path):\n",
    "    with open(file_path, 'r', encoding='utf-8-sig') as file:\n",
    "        text_array = [line.strip() for line in file.readlines()]\n",
    "    \n",
    "    return (text_array,separate_the_names(text_array))\n",
    "\n",
    "file_path = 'E://AppMetrica-data//test.csv'\n",
    "text_array,name = load_text_file(file_path)"
   ]
  },
  {
   "cell_type": "code",
   "execution_count": 84,
   "id": "66a34169",
   "metadata": {},
   "outputs": [
    {
     "name": "stdout",
     "output_type": "stream",
     "text": [
      "event_json event_name app_version_name os_version event_datetime\n",
      "\"{\"\"SugarAds\"\":{\"\"1\"\":\"\"342\"\"}}\" Meta 5.0.17 8.1.0 2024-04-13 20:59:09\n",
      "Meta\n"
     ]
    }
   ],
   "source": [
    "print(*name)\n",
    "val = text_array[1].split(\",\")\n",
    "print(*val)\n",
    "event = Event(name,val)\n",
    "print(event.get_value(name[1]))"
   ]
  },
  {
   "cell_type": "code",
   "execution_count": 103,
   "id": "c5d863f0",
   "metadata": {},
   "outputs": [],
   "source": [
    "events=[]\n",
    "\n",
    "for i in text_array[0:10]:\n",
    "    events.append(Event(name,i.split(\",\")))"
   ]
  },
  {
   "cell_type": "code",
   "execution_count": 104,
   "id": "fab32abb",
   "metadata": {},
   "outputs": [
    {
     "name": "stdout",
     "output_type": "stream",
     "text": [
      "Ads\n",
      "Meta\n",
      "2Tropics\n",
      "2Tropics\n",
      "Ads\n",
      "Meta\n",
      "2Tropics\n",
      "3Semidesert\n",
      "3Semidesert\n",
      "3Semidesert\n"
     ]
    }
   ],
   "source": [
    "for i in events:\n",
    "    print(i.get_value(name[1]))"
   ]
  },
  {
   "cell_type": "code",
   "execution_count": null,
   "id": "27ba6f70",
   "metadata": {},
   "outputs": [],
   "source": []
  }
 ],
 "metadata": {
  "hide_input": false,
  "kernelspec": {
   "display_name": "Python 3 (ipykernel)",
   "language": "python",
   "name": "python3"
  },
  "language_info": {
   "codemirror_mode": {
    "name": "ipython",
    "version": 3
   },
   "file_extension": ".py",
   "mimetype": "text/x-python",
   "name": "python",
   "nbconvert_exporter": "python",
   "pygments_lexer": "ipython3",
   "version": "3.11.5"
  }
 },
 "nbformat": 4,
 "nbformat_minor": 5
}
