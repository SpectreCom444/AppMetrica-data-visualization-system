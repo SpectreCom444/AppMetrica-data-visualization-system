{
 "cells": [
  {
   "cell_type": "code",
   "execution_count": 1,
   "id": "241260df",
   "metadata": {},
   "outputs": [],
   "source": [
    "import matplotlib.pyplot as plt\n",
    "import numpy as np\n",
    "import csv\n",
    "import json"
   ]
  },
  {
   "cell_type": "code",
   "execution_count": 2,
   "id": "df113e0c",
   "metadata": {},
   "outputs": [],
   "source": [
    "KEY_JSON_FIELD = \"event_json\""
   ]
  },
  {
   "cell_type": "code",
   "execution_count": 3,
   "id": "4e5664bc",
   "metadata": {},
   "outputs": [],
   "source": [
    "class Event:\n",
    "    def __init__(self, field_names, values):\n",
    "        if len(field_names) != len(values):\n",
    "            raise ValueError(f\"The data is corrupted!\\n\"\n",
    "                             f\"The number of field names does not match the number of values.\\n\"\n",
    "                             f\"{len(field_names)}/{len(values)}\\n\"\n",
    "                             f\"{field_names}/{values}\")\n",
    "            \n",
    "        for key, value in zip(field_names, values):\n",
    "            if key==KEY_JSON_FIELD:\n",
    "                converted_value = self.convert_JSON_to_dict(value)\n",
    "                setattr(self, key, converted_value)\n",
    "            else:\n",
    "                setattr(self, key, value)\n",
    "            \n",
    "    def get_value(self, key):\n",
    "        return getattr(self,key)\n",
    "    \n",
    "    @classmethod\n",
    "    def convert_JSON_to_dict(cls, stringJSON):\n",
    "        def traverse_dict(d, parent=None):\n",
    "            for key, value in d.items():\n",
    "                if parent is not None:\n",
    "                    result.append((parent, key))\n",
    "                if isinstance(value, dict):\n",
    "                    traverse_dict(value, key)\n",
    "                else:\n",
    "                    result.append((key, value)) \n",
    "                    \n",
    "        if stringJSON==\"\":\n",
    "            return stringJSON\n",
    "        data = json.loads(stringJSON)  \n",
    "        result=[]\n",
    "        traverse_dict(data)\n",
    "        return result"
   ]
  },
  {
   "cell_type": "code",
   "execution_count": 4,
   "id": "e59311e5",
   "metadata": {},
   "outputs": [],
   "source": [
    "class user:\n",
    "    def __init__(self):\n",
    "        self.events = []\n",
    "        self.session = []\n",
    "\n",
    "    def add_event(self, event):\n",
    "        self.events.append(event)\n",
    "\n",
    "    def get_events(self):\n",
    "        return self.events\n",
    "    \n",
    "     def add_session(self, event):\n",
    "        self.events.append(event)\n",
    "\n",
    "    def get_session(self):\n",
    "        return self.events"
   ]
  },
  {
   "cell_type": "code",
   "execution_count": null,
   "id": "bc4a66fe",
   "metadata": {},
   "outputs": [],
   "source": [
    "class session:\n",
    "    def __init__(self):\n",
    "        self.events = []\n",
    "\n",
    "    def add_event(self, event):\n",
    "        self.events.append(event)\n",
    "\n",
    "    def get_events(self):\n",
    "        return self.events"
   ]
  },
  {
   "cell_type": "code",
   "execution_count": 5,
   "id": "ef0bac85",
   "metadata": {},
   "outputs": [],
   "source": [
    "def load_text_file(file_path):\n",
    "    with open(file_path, 'r') as file:\n",
    "        lines = file.readlines()\n",
    "    return lines"
   ]
  },
  {
   "cell_type": "code",
   "execution_count": 6,
   "id": "d91e2d30",
   "metadata": {},
   "outputs": [],
   "source": [
    "def load_text_file(file_path):\n",
    "    with open(file_path, 'r', encoding='utf-8-sig') as file:\n",
    "        csv_reader = csv.reader(file)\n",
    "        text_array = [list(map(str.strip, line)) for line in csv_reader]\n",
    "    return text_array[0],text_array[1:]\n",
    "\n",
    "file_path = 'E://AppMetrica-data//test.csv'\n",
    "name,text_array = load_text_file(file_path)"
   ]
  },
  {
   "cell_type": "code",
   "execution_count": 7,
   "id": "0ec88099",
   "metadata": {},
   "outputs": [
    {
     "name": "stdout",
     "output_type": "stream",
     "text": [
      "['application_id', 'app_build_number', 'ios_ifa', 'ios_ifv', 'android_id', 'google_aid', 'profile_id', 'os_name', 'os_version', 'device_manufacturer', 'device_model', 'device_type', 'device_locale', 'device_ipv6', 'app_version_name', 'app_package_name', 'event_name', 'event_json', 'event_datetime', 'event_timestamp', 'event_receive_datetime', 'event_receive_timestamp', 'connection_type', 'operator_name', 'original_device_model', 'mcc', 'mnc', 'country_iso_code', 'city', 'appmetrica_device_id', 'installation_id', 'session_id', 'windows_aid']\n",
      "[['4415956', '39', '', '', '', '97c59020-33b2-497c-9254-fa1b1eff87a8', '', 'android', '9', 'Samsung', 'Galaxy A30', 'phone', 'tr_TR', '::ffff:212.253.223.11', '5.0.8', 'com.PIXELCELLS.AntColony2', '0Tutorial', '{\"Normal\":{\"LevelEvent\":\"Start\"}}', '2023-11-27 17:52:16', '1701103936', '2023-11-27 19:52:43', '1701103963', 'wifi', 'Turkcell', 'SM-A305F', '286', '1', 'TR', 'Izmir', '14135491802448304438', 'bb3ce17176d9490b8171a6568cf2422f', '10000000001', '']]\n"
     ]
    }
   ],
   "source": [
    "print(name)\n",
    "print(text_array[0:1])"
   ]
  },
  {
   "cell_type": "code",
   "execution_count": 8,
   "id": "c5d863f0",
   "metadata": {},
   "outputs": [],
   "source": [
    "events=[]\n",
    "\n",
    "for i in text_array[0:100]:\n",
    "    events.append(Event(name,i))"
   ]
  },
  {
   "cell_type": "code",
   "execution_count": 9,
   "id": "27ba6f70",
   "metadata": {},
   "outputs": [
    {
     "name": "stdout",
     "output_type": "stream",
     "text": [
      "4415956\n",
      "4415956\n",
      "4415956\n",
      "4415956\n",
      "4415956\n",
      "4415956\n",
      "4415956\n",
      "4415956\n",
      "4415956\n",
      "4415956\n",
      "4415956\n",
      "4415956\n",
      "4415956\n",
      "4415956\n",
      "4415956\n",
      "4415956\n",
      "4415956\n",
      "4415956\n",
      "4415956\n",
      "4415956\n"
     ]
    }
   ],
   "source": [
    "for i in events[0:20]:\n",
    "    print(i.get_value(name[0]))"
   ]
  },
  {
   "cell_type": "code",
   "execution_count": null,
   "id": "4e894b14",
   "metadata": {},
   "outputs": [],
   "source": []
  },
  {
   "cell_type": "code",
   "execution_count": null,
   "id": "c8e3446d",
   "metadata": {},
   "outputs": [],
   "source": []
  }
 ],
 "metadata": {
  "hide_input": false,
  "kernelspec": {
   "display_name": "Python 3 (ipykernel)",
   "language": "python",
   "name": "python3"
  },
  "language_info": {
   "codemirror_mode": {
    "name": "ipython",
    "version": 3
   },
   "file_extension": ".py",
   "mimetype": "text/x-python",
   "name": "python",
   "nbconvert_exporter": "python",
   "pygments_lexer": "ipython3",
   "version": "3.11.5"
  }
 },
 "nbformat": 4,
 "nbformat_minor": 5
}
