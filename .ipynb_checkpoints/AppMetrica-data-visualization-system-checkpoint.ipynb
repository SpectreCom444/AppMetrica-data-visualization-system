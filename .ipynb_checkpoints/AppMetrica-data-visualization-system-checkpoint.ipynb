{
 "cells": [
  {
   "cell_type": "code",
   "execution_count": 10,
   "id": "241260df",
   "metadata": {},
   "outputs": [],
   "source": [
    "import matplotlib.pyplot as plt\n",
    "import numpy as np\n",
    "import csv\n",
    "from collections import Counter\n",
    "import pandas as pd"
   ]
  },
  {
   "cell_type": "code",
   "execution_count": 2,
   "id": "4e5664bc",
   "metadata": {},
   "outputs": [],
   "source": [
    "class Event:\n",
    "    def __init__(self, field_names, values):\n",
    "        if len(field_names) != len(values):\n",
    "            raise ValueError(f\"The data is corrupted!\\n\"\n",
    "                             f\"The number of field names does not match the number of values.\\n\"\n",
    "                             f\"{len(field_names)}/{len(values)}\\n\"\n",
    "                             f\"{field_names}/{values}\")\n",
    "            \n",
    "        for key, value in zip(field_names, values):\n",
    "            setattr(self, key, value)\n",
    "    def get_value(self, key):\n",
    "        return getattr(self,key)"
   ]
  },
  {
   "cell_type": "code",
   "execution_count": 3,
   "id": "e59311e5",
   "metadata": {},
   "outputs": [],
   "source": [
    "class user:\n",
    "    def __init__(self):\n",
    "        pass"
   ]
  },
  {
   "cell_type": "code",
   "execution_count": 4,
   "id": "ef0bac85",
   "metadata": {},
   "outputs": [],
   "source": [
    "def load_text_file(file_path):\n",
    "    with open(file_path, 'r') as file:\n",
    "        lines = file.readlines()\n",
    "    return lines"
   ]
  },
  {
   "cell_type": "code",
   "execution_count": 5,
   "id": "d91e2d30",
   "metadata": {},
   "outputs": [],
   "source": [
    "def load_text_file(file_path):\n",
    "    with open(file_path, 'r', encoding='utf-8-sig') as file:\n",
    "        csv_reader = csv.reader(file)\n",
    "        text_array = [list(map(str.strip, line)) for line in csv_reader]\n",
    "    return text_array[0],text_array[1:]\n",
    "\n",
    "file_path = 'E://AppMetrica-data//test.csv'\n",
    "name,text_array = load_text_file(file_path)"
   ]
  },
  {
   "cell_type": "code",
   "execution_count": 6,
   "id": "cd33be92",
   "metadata": {},
   "outputs": [
    {
     "name": "stdout",
     "output_type": "stream",
     "text": [
      "['event_json', 'event_name', 'app_version_name', 'os_version', 'event_datetime']\n",
      "['{\"SugarAds\":\"342\"}', 'Ads', '5.0.17', '8.1.0', '2024-04-13 20:59:09']\n"
     ]
    }
   ],
   "source": [
    "print(name)\n",
    "print(text_array[0])"
   ]
  },
  {
   "cell_type": "code",
   "execution_count": 7,
   "id": "c5d863f0",
   "metadata": {},
   "outputs": [],
   "source": [
    "events=[]\n",
    "\n",
    "for i in text_array[0:100]:\n",
    "    events.append(Event(name,i))"
   ]
  },
  {
   "cell_type": "code",
   "execution_count": 8,
   "id": "27ba6f70",
   "metadata": {},
   "outputs": [
    {
     "name": "stdout",
     "output_type": "stream",
     "text": [
      "Ads\n",
      "Meta\n",
      "2Tropics\n",
      "2Tropics\n",
      "Ads\n",
      "Meta\n",
      "2Tropics\n",
      "3Semidesert\n",
      "3Semidesert\n",
      "3Semidesert\n",
      "3Semidesert\n",
      "3Semidesert\n",
      "3Semidesert\n",
      "3Semidesert\n",
      "3Semidesert\n",
      "3Semidesert\n",
      "3Semidesert\n",
      "3Semidesert\n",
      "Ads\n"
     ]
    }
   ],
   "source": [
    "for i in events[0:19]:\n",
    "    print(i.get_value(name[1]))"
   ]
  },
  {
   "cell_type": "code",
   "execution_count": null,
   "id": "5db9a916",
   "metadata": {},
   "outputs": [],
   "source": [
    "event_types = [i.get_value(name[1]) for i in events]\n",
    "event_count = Counter(event_types)"
   ]
  },
  {
   "cell_type": "code",
   "execution_count": 9,
   "id": "42cfc5c1",
   "metadata": {},
   "outputs": [
    {
     "data": {
      "image/png": "[encoded data removed]",
      "text/plain": [
       "<Figure size 1000x500 with 1 Axes>"
      ]
     },
     "metadata": {},
     "output_type": "display_data"
    }
   ],
   "source": [
    "types = list(event_count.keys()) \n",
    "counts = list(event_count.values()) \n",
    "\n",
    "plt.figure(figsize=(10, 5))\n",
    "plt.bar(types, counts)  \n",
    "plt.show()\n"
   ]
  },
  {
   "cell_type": "code",
   "execution_count": 16,
   "id": "0404bf4e",
   "metadata": {},
   "outputs": [
    {
     "data": {
      "text/html": [
       "<div>\n",
       "<style scoped>\n",
       "    .dataframe tbody tr th:only-of-type {\n",
       "        vertical-align: middle;\n",
       "    }\n",
       "\n",
       "    .dataframe tbody tr th {\n",
       "        vertical-align: top;\n",
       "    }\n",
       "\n",
       "    .dataframe thead th {\n",
       "        text-align: right;\n",
       "    }\n",
       "</style>\n",
       "<table border=\"1\" class=\"dataframe\">\n",
       "  <thead>\n",
       "    <tr style=\"text-align: right;\">\n",
       "      <th></th>\n",
       "      <th>Event Type</th>\n",
       "      <th>Count</th>\n",
       "    </tr>\n",
       "  </thead>\n",
       "  <tbody>\n",
       "    <tr>\n",
       "      <th>0</th>\n",
       "      <td>Ads</td>\n",
       "      <td>14</td>\n",
       "    </tr>\n",
       "    <tr>\n",
       "      <th>1</th>\n",
       "      <td>Meta</td>\n",
       "      <td>8</td>\n",
       "    </tr>\n",
       "    <tr>\n",
       "      <th>2</th>\n",
       "      <td>2Tropics</td>\n",
       "      <td>3</td>\n",
       "    </tr>\n",
       "    <tr>\n",
       "      <th>3</th>\n",
       "      <td>3Semidesert</td>\n",
       "      <td>44</td>\n",
       "    </tr>\n",
       "    <tr>\n",
       "      <th>4</th>\n",
       "      <td>Error</td>\n",
       "      <td>8</td>\n",
       "    </tr>\n",
       "    <tr>\n",
       "      <th>5</th>\n",
       "      <td>Interstitial</td>\n",
       "      <td>2</td>\n",
       "    </tr>\n",
       "    <tr>\n",
       "      <th>6</th>\n",
       "      <td>Tutorial</td>\n",
       "      <td>3</td>\n",
       "    </tr>\n",
       "    <tr>\n",
       "      <th>7</th>\n",
       "      <td>0Tutorial</td>\n",
       "      <td>18</td>\n",
       "    </tr>\n",
       "  </tbody>\n",
       "</table>\n",
       "</div>"
      ],
      "text/plain": [
       "     Event Type  Count\n",
       "0           Ads     14\n",
       "1          Meta      8\n",
       "2      2Tropics      3\n",
       "3   3Semidesert     44\n",
       "4         Error      8\n",
       "5  Interstitial      2\n",
       "6      Tutorial      3\n",
       "7     0Tutorial     18"
      ]
     },
     "execution_count": 16,
     "metadata": {},
     "output_type": "execute_result"
    }
   ],
   "source": [
    "df = pd.DataFrame(list(event_count.items()), columns=['Event Type', 'Count'])\n",
    "df"
   ]
  },
  {
   "cell_type": "code",
   "execution_count": null,
   "id": "c8f70668",
   "metadata": {},
   "outputs": [],
   "source": []
  }
 ],
 "metadata": {
  "hide_input": false,
  "kernelspec": {
   "display_name": "Python 3 (ipykernel)",
   "language": "python",
   "name": "python3"
  },
  "language_info": {
   "codemirror_mode": {
    "name": "ipython",
    "version": 3
   },
   "file_extension": ".py",
   "mimetype": "text/x-python",
   "name": "python",
   "nbconvert_exporter": "python",
   "pygments_lexer": "ipython3",
   "version": "3.11.5"
  }
 },
 "nbformat": 4,
 "nbformat_minor": 5
}
