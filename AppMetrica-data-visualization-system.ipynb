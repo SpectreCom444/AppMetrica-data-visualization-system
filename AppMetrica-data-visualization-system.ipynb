{
 "cells": [
  {
   "cell_type": "code",
   "execution_count": 31,
   "id": "241260df",
   "metadata": {},
   "outputs": [],
   "source": [
    "import matplotlib.pyplot as plt\n",
    "import numpy as np\n",
    "import csv"
   ]
  },
  {
   "cell_type": "code",
   "execution_count": 12,
   "id": "4e5664bc",
   "metadata": {},
   "outputs": [],
   "source": [
    "class Event:\n",
    "    def __init__(self, field_names, values):\n",
    "        if len(field_names) != len(values):\n",
    "            raise ValueError(f\"The data is corrupted!\\n\"\n",
    "                             f\"The number of field names does not match the number of values.\\n\"\n",
    "                             f\"{len(field_names)}/{len(values)}\\n\"\n",
    "                             f\"{field_names}/{values}\")\n",
    "            \n",
    "        for key, value in zip(field_names, values):\n",
    "            setattr(self, key, value)\n",
    "    def get_value(self, key):\n",
    "        return getattr(self,key)"
   ]
  },
  {
   "cell_type": "code",
   "execution_count": 13,
   "id": "e59311e5",
   "metadata": {},
   "outputs": [],
   "source": [
    "class user:\n",
    "    def __init__(self):\n",
    "        pass"
   ]
  },
  {
   "cell_type": "code",
   "execution_count": 14,
   "id": "ef0bac85",
   "metadata": {},
   "outputs": [],
   "source": [
    "def load_text_file(file_path):\n",
    "    with open(file_path, 'r') as file:\n",
    "        lines = file.readlines()\n",
    "    return lines"
   ]
  },
  {
   "cell_type": "code",
   "execution_count": 58,
   "id": "d91e2d30",
   "metadata": {},
   "outputs": [],
   "source": [
    "def load_text_file(file_path):\n",
    "    with open(file_path, 'r', encoding='utf-8-sig') as file:\n",
    "        csv_reader = csv.reader(file)\n",
    "        text_array = [list(map(str.strip, line)) for line in csv_reader]\n",
    "    return text_array[0],text_array[1:]\n",
    "\n",
    "file_path = 'E://AppMetrica-data//test.csv'\n",
    "name,text_array = load_text_file(file_path)"
   ]
  },
  {
   "cell_type": "code",
   "execution_count": 52,
   "id": "0ec88099",
   "metadata": {},
   "outputs": [
    {
     "name": "stdout",
     "output_type": "stream",
     "text": [
      "['event_json', 'event_name', 'app_version_name', 'os_version', 'event_datetime']\n",
      "[['{\"SugarAds\":\"342\"}', 'Ads', '5.0.17', '8.1.0', '2024-04-13 20:59:09']]\n"
     ]
    }
   ],
   "source": [
    "print(name)\n",
    "print(text_array[0:1])"
   ]
  },
  {
   "cell_type": "code",
   "execution_count": 54,
   "id": "c5d863f0",
   "metadata": {},
   "outputs": [],
   "source": [
    "events=[]\n",
    "\n",
    "for i in text_array[0:100]:\n",
    "    events.append(Event(name,i))"
   ]
  },
  {
   "cell_type": "code",
   "execution_count": 57,
   "id": "27ba6f70",
   "metadata": {},
   "outputs": [
    {
     "name": "stdout",
     "output_type": "stream",
     "text": [
      "Ads\n",
      "Meta\n",
      "2Tropics\n",
      "2Tropics\n",
      "Ads\n",
      "Meta\n",
      "2Tropics\n",
      "3Semidesert\n",
      "3Semidesert\n",
      "3Semidesert\n",
      "3Semidesert\n",
      "3Semidesert\n",
      "3Semidesert\n",
      "3Semidesert\n",
      "3Semidesert\n",
      "3Semidesert\n",
      "3Semidesert\n",
      "3Semidesert\n",
      "Ads\n",
      "Error\n"
     ]
    }
   ],
   "source": [
    "for i in events[0:20]:\n",
    "    print(i.get_value(name[1]))"
   ]
  },
  {
   "cell_type": "code",
   "execution_count": null,
   "id": "4e894b14",
   "metadata": {},
   "outputs": [],
   "source": []
  }
 ],
 "metadata": {
  "hide_input": false,
  "kernelspec": {
   "display_name": "Python 3 (ipykernel)",
   "language": "python",
   "name": "python3"
  },
  "language_info": {
   "codemirror_mode": {
    "name": "ipython",
    "version": 3
   },
   "file_extension": ".py",
   "mimetype": "text/x-python",
   "name": "python",
   "nbconvert_exporter": "python",
   "pygments_lexer": "ipython3",
   "version": "3.11.5"
  }
 },
 "nbformat": 4,
 "nbformat_minor": 5
}
