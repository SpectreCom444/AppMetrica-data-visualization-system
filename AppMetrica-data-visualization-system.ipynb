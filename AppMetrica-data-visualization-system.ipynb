{
 "cells": [
  {
   "cell_type": "code",
   "execution_count": 19,
   "id": "241260df",
   "metadata": {},
   "outputs": [],
   "source": [
    "import matplotlib.pyplot as plt\n",
    "import numpy as np\n",
    "import csv\n",
    "import json"
   ]
  },
  {
   "cell_type": "code",
   "execution_count": 62,
   "id": "df113e0c",
   "metadata": {},
   "outputs": [],
   "source": [
    "KEY_JSON_FIELD = \"event_json\""
   ]
  },
  {
   "cell_type": "code",
   "execution_count": 192,
   "id": "4e5664bc",
   "metadata": {},
   "outputs": [],
   "source": [
    "class Event:\n",
    "    def __init__(self, field_names, values):\n",
    "        if len(field_names) != len(values):\n",
    "            raise ValueError(f\"The data is corrupted!\\n\"\n",
    "                             f\"The number of field names does not match the number of values.\\n\"\n",
    "                             f\"{len(field_names)}/{len(values)}\\n\"\n",
    "                             f\"{field_names}/{values}\")\n",
    "            \n",
    "        for key, value in zip(field_names, values):\n",
    "            if key==KEY_JSON_FIELD:\n",
    "                converted_value = self.convert_JSON_to_dict(value)\n",
    "                setattr(self, key, converted_value)\n",
    "            else:\n",
    "                setattr(self, key, value)\n",
    "            \n",
    "    def get_value(self, key):\n",
    "        return getattr(self,key)\n",
    "    \n",
    "    @classmethod\n",
    "    def convert_JSON_to_dict(cls, stringJSON):\n",
    "        def traverse_dict(d, parent=None):\n",
    "            for key, value in d.items():\n",
    "                if parent is not None:\n",
    "                    result.append((parent, key))\n",
    "                if isinstance(value, dict):\n",
    "                    traverse_dict(value, key)\n",
    "                else:\n",
    "                    result.append((key, value)) \n",
    "                    \n",
    "        if stringJSON==\"\":\n",
    "            return stringJSON\n",
    "        data = json.loads(stringJSON)  \n",
    "        result=[]\n",
    "        traverse_dict(data)\n",
    "        return result"
   ]
  },
  {
   "cell_type": "code",
   "execution_count": 80,
   "id": "e59311e5",
   "metadata": {},
   "outputs": [],
   "source": [
    "class user:\n",
    "    def __init__(self):\n",
    "        pass"
   ]
  },
  {
   "cell_type": "code",
   "execution_count": 71,
   "id": "ef0bac85",
   "metadata": {},
   "outputs": [],
   "source": [
    "def load_text_file(file_path):\n",
    "    with open(file_path, 'r') as file:\n",
    "        lines = file.readlines()\n",
    "    return lines"
   ]
  },
  {
   "cell_type": "code",
   "execution_count": 72,
   "id": "d91e2d30",
   "metadata": {},
   "outputs": [],
   "source": [
    "def load_text_file(file_path):\n",
    "    with open(file_path, 'r', encoding='utf-8-sig') as file:\n",
    "        csv_reader = csv.reader(file)\n",
    "        text_array = [list(map(str.strip, line)) for line in csv_reader]\n",
    "    return text_array[0],text_array[1:]\n",
    "\n",
    "file_path = 'E://AppMetrica-data//test.csv'\n",
    "name,text_array = load_text_file(file_path)"
   ]
  },
  {
   "cell_type": "code",
   "execution_count": 73,
   "id": "0ec88099",
   "metadata": {},
   "outputs": [
    {
     "name": "stdout",
     "output_type": "stream",
     "text": [
      "['event_json', 'event_name', 'app_version_name', 'os_version', 'event_datetime']\n",
      "[['{\"SugarAds\":\"342\"}', 'Ads', '5.0.17', '8.1.0', '2024-04-13 20:59:09']]\n"
     ]
    }
   ],
   "source": [
    "print(name)\n",
    "print(text_array[0:1])"
   ]
  },
  {
   "cell_type": "code",
   "execution_count": 194,
   "id": "c5d863f0",
   "metadata": {},
   "outputs": [],
   "source": [
    "events=[]\n",
    "\n",
    "for i in text_array[0:100]:\n",
    "    events.append(Event(name,i))"
   ]
  },
  {
   "cell_type": "code",
   "execution_count": 195,
   "id": "27ba6f70",
   "metadata": {},
   "outputs": [
    {
     "name": "stdout",
     "output_type": "stream",
     "text": [
      "[('SugarAds', '342')]\n",
      "[('SugarAds', '1'), ('1', '342')]\n",
      "[('Normal', 'LastChanceOpen'), ('LastChanceOpen', 'Moth_Gold')]\n",
      "[('Normal', 'LastChanceSkip'), ('LastChanceSkip', 'Ads'), ('Ads', 'Ant Cartographer'), ('Ant Cartographer', '6')]\n",
      "[('SugarAds', '628')]\n",
      "[('SugarAds', '3'), ('3', '628')]\n",
      "[('Normal', 'LevelEvent'), ('LevelEvent', 'End'), ('End', 'Victory'), ('Victory', '119')]\n",
      "[('Normal', 'LevelEvent'), ('LevelEvent', 'End'), ('End', 'Victory'), ('Victory', '103')]\n",
      "[('Normal', 'LastChanceOpen'), ('LastChanceOpen', 'Moth_Gold')]\n",
      "[('Normal', 'LastChanceUse'), ('LastChanceUse', 'Ads'), ('Ads', 'Eggs Loader'), ('Eggs Loader', '5')]\n",
      "[('Normal', 'LastChanceSkip'), ('LastChanceSkip', 'ShugarAds'), ('ShugarAds', 'Eggs Loader'), ('Eggs Loader', '5')]\n",
      "[('Normal', 'LastChanceOpen'), ('LastChanceOpen', 'Moth_Gold')]\n",
      "[('Normal', 'LastChanceSkip'), ('LastChanceSkip', 'Shugar'), ('Shugar', 'SpeedUp'), ('SpeedUp', '5')]\n",
      "[('Normal', 'LastChanceOpen'), ('LastChanceOpen', 'Moth_Gold')]\n",
      "[('Normal', 'LastChanceSkip'), ('LastChanceSkip', 'Ads'), ('Ads', 'Ant Attacker'), ('Ant Attacker', '2')]\n",
      "[('Normal', 'LastChanceOpen'), ('LastChanceOpen', 'Moth_Gold')]\n",
      "[('Normal', 'LastChanceSkip'), ('LastChanceSkip', 'Shugar'), ('Shugar', 'SpeedUp'), ('SpeedUp', '5')]\n",
      "[('Normal', 'Start')]\n",
      "[('LastChance', '236')]\n",
      "[('Preloading', 'CMP error [2/Error making request.]'), ('CMP error [2/Error making request.]', '  at Analitics.Error (System.String errorType) <0x00000 + 0xffffffff> 0 in <00000000000000000000000000000000>:0 \\n  at Analitics.HandleLog (System.String logString, System.String stackTrace, UnityEngine.LogType type) <0x00000 + 0xffffffff> 0 in <00000000000000000000000000000000>:0 \\n  at UnityEngine.Application.CallLogCallback (System.String logString, System.String stackTrace, UnityEngine.LogType type, System.Boolean invokedOnMainThread) <0x00000 + 0xffffffff> 0 in <00000000000000000000000000000000>:0 \\n  at HyperKit.LogError (System.String message, System.Exception ex) <0x00000 + 0xffffffff> 0 in <00000000000000000000000000000000>:0 \\n  at Services.Ads.Internal.AdsService.OnConsentInfoUpdated (GoogleMobileAds.Ump.Api.FormError consentError) <0x00000 + 0xffffffff> 0 in <00000000000000000000000000000000>:0 \\n  at UnityEngine.UnitySynchronizationContext+WorkRequest.Invoke () <0x00000 + 0xffffffff> 0 in <00000000000000000000000000000000>:0 \\n  at UnityEngine.UnitySynchronizationContext.Exec () <0x00000 + 0xffffffff> 0 in <00000000000000000000000000000000>:0 ')]\n"
     ]
    }
   ],
   "source": [
    "for i in events[0:20]:\n",
    "    print(i.get_value(name[0]))"
   ]
  },
  {
   "cell_type": "code",
   "execution_count": null,
   "id": "4e894b14",
   "metadata": {},
   "outputs": [],
   "source": []
  },
  {
   "cell_type": "code",
   "execution_count": null,
   "id": "c8e3446d",
   "metadata": {},
   "outputs": [],
   "source": []
  }
 ],
 "metadata": {
  "hide_input": false,
  "kernelspec": {
   "display_name": "Python 3 (ipykernel)",
   "language": "python",
   "name": "python3"
  },
  "language_info": {
   "codemirror_mode": {
    "name": "ipython",
    "version": 3
   },
   "file_extension": ".py",
   "mimetype": "text/x-python",
   "name": "python",
   "nbconvert_exporter": "python",
   "pygments_lexer": "ipython3",
   "version": "3.11.5"
  }
 },
 "nbformat": 4,
 "nbformat_minor": 5
}
